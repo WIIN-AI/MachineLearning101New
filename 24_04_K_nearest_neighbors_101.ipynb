{
 "cells": [
  {
   "cell_type": "code",
   "execution_count": 3,
   "id": "2c26462e",
   "metadata": {},
   "outputs": [],
   "source": [
    "import numpy as np # Computing library\n",
    "from sklearn import preprocessing,svm,neighbors #shuffle data, biased the data # negative 1 to 1 postive\n",
    "from sklearn.linear_model import LinearRegression\n",
    "import math\n",
    "from sklearn.model_selection import cross_val_score\n",
    "import pandas as pd"
   ]
  },
  {
   "cell_type": "code",
   "execution_count": 4,
   "id": "795909fa",
   "metadata": {},
   "outputs": [],
   "source": [
    "df = pd.read_csv(\"breast-cancer-wisconsin.csv\") # need to convert to csv file, replace the extension"
   ]
  },
  {
   "cell_type": "code",
   "execution_count": 11,
   "id": "4b788d86",
   "metadata": {},
   "outputs": [
    {
     "data": {
      "text/plain": [
       "Index(['1000025', '5', '1', '1.1', '1.2', '2', '1.3', '3', '1.4', '1.5',\n",
       "       '2.1'],\n",
       "      dtype='object')"
      ]
     },
     "execution_count": 11,
     "metadata": {},
     "output_type": "execute_result"
    }
   ],
   "source": []
  },
  {
   "cell_type": "code",
   "execution_count": 12,
   "id": "7c099b79",
   "metadata": {},
   "outputs": [],
   "source": [
    "# df.replace(\"?\",-9999,inplace = True)\n",
    "# df.drop(['id'],axis=1, inplace = True)"
   ]
  },
  {
   "cell_type": "code",
   "execution_count": null,
   "id": "e284bc86",
   "metadata": {},
   "outputs": [],
   "source": [
    "X = np.array(df.drop(['class'],1))\n",
    "y = np.array(df.drop(['class']))\n"
   ]
  },
  {
   "cell_type": "code",
   "execution_count": null,
   "id": "e4fbb2d3",
   "metadata": {},
   "outputs": [],
   "source": [
    "from sklearn.model_selection import train_test_split\n",
    "X_train, X_test, y_train,y_test = train_test_split(X,y,test_size=0.2)"
   ]
  },
  {
   "cell_type": "code",
   "execution_count": null,
   "id": "01af2c9d",
   "metadata": {},
   "outputs": [],
   "source": [
    "clf = neighbors.KNeightborsClassifier()\n",
    "clf.fit(X_train,y_train)\n",
    "\n",
    "accuracy = clf.score(X_test,y_test)\n",
    "print(accuracy) # 96.42 "
   ]
  },
  {
   "cell_type": "code",
   "execution_count": null,
   "id": "3ee3a8b9",
   "metadata": {},
   "outputs": [],
   "source": [
    "# Option 1 for example prediction values \n",
    "example_measures = np.array([4,2,1,1,1,2,3,2,1])  # Prediction values goes here \n",
    "example_measures  = example_measures.reshape(1.-1) # here 1 (one) is refer to length of the given prediction list values\n",
    " \n",
    "# Option 2 for example prediction values \n",
    "example_measures = np.array([4,2,1,1,1,2,3,2,1],[4,2,1,2,1,2,3,2,1])  # Prediction values goes here \n",
    "example_measures  = example_measures.reshape(len(example_measures).-1)\n",
    "\n",
    "prediction = clf.predict(example_measures)\n",
    "print(prediction)"
   ]
  }
 ],
 "metadata": {
  "kernelspec": {
   "display_name": "Python 3 (ipykernel)",
   "language": "python",
   "name": "python3"
  },
  "language_info": {
   "codemirror_mode": {
    "name": "ipython",
    "version": 3
   },
   "file_extension": ".py",
   "mimetype": "text/x-python",
   "name": "python",
   "nbconvert_exporter": "python",
   "pygments_lexer": "ipython3",
   "version": "3.9.9"
  }
 },
 "nbformat": 4,
 "nbformat_minor": 5
}
