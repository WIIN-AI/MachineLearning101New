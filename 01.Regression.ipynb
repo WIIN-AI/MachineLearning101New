{
 "cells": [
  {
   "cell_type": "code",
   "execution_count": 122,
   "id": "c7bc86c2",
   "metadata": {},
   "outputs": [],
   "source": [
    "# !pip install scikit-learn\n",
    "# pip install Quandl\n",
    "# pip install matplotlib"
   ]
  },
  {
   "cell_type": "code",
   "execution_count": 2,
   "id": "72c19885",
   "metadata": {},
   "outputs": [],
   "source": [
    "import pandas as pd\n",
    "import quandl"
   ]
  },
  {
   "cell_type": "code",
   "execution_count": 3,
   "id": "5a44aad4",
   "metadata": {},
   "outputs": [
    {
     "data": {
      "text/html": [
       "<div>\n",
       "<style scoped>\n",
       "    .dataframe tbody tr th:only-of-type {\n",
       "        vertical-align: middle;\n",
       "    }\n",
       "\n",
       "    .dataframe tbody tr th {\n",
       "        vertical-align: top;\n",
       "    }\n",
       "\n",
       "    .dataframe thead th {\n",
       "        text-align: right;\n",
       "    }\n",
       "</style>\n",
       "<table border=\"1\" class=\"dataframe\">\n",
       "  <thead>\n",
       "    <tr style=\"text-align: right;\">\n",
       "      <th></th>\n",
       "      <th>Open</th>\n",
       "      <th>High</th>\n",
       "      <th>Low</th>\n",
       "      <th>Close</th>\n",
       "      <th>Volume</th>\n",
       "      <th>Ex-Dividend</th>\n",
       "      <th>Split Ratio</th>\n",
       "      <th>Adj. Open</th>\n",
       "      <th>Adj. High</th>\n",
       "      <th>Adj. Low</th>\n",
       "      <th>Adj. Close</th>\n",
       "      <th>Adj. Volume</th>\n",
       "    </tr>\n",
       "    <tr>\n",
       "      <th>Date</th>\n",
       "      <th></th>\n",
       "      <th></th>\n",
       "      <th></th>\n",
       "      <th></th>\n",
       "      <th></th>\n",
       "      <th></th>\n",
       "      <th></th>\n",
       "      <th></th>\n",
       "      <th></th>\n",
       "      <th></th>\n",
       "      <th></th>\n",
       "      <th></th>\n",
       "    </tr>\n",
       "  </thead>\n",
       "  <tbody>\n",
       "    <tr>\n",
       "      <th>2004-08-19</th>\n",
       "      <td>100.01</td>\n",
       "      <td>104.06</td>\n",
       "      <td>95.96</td>\n",
       "      <td>100.335</td>\n",
       "      <td>44659000.0</td>\n",
       "      <td>0.0</td>\n",
       "      <td>1.0</td>\n",
       "      <td>50.159839</td>\n",
       "      <td>52.191109</td>\n",
       "      <td>48.128568</td>\n",
       "      <td>50.322842</td>\n",
       "      <td>44659000.0</td>\n",
       "    </tr>\n",
       "    <tr>\n",
       "      <th>2004-08-20</th>\n",
       "      <td>101.01</td>\n",
       "      <td>109.08</td>\n",
       "      <td>100.50</td>\n",
       "      <td>108.310</td>\n",
       "      <td>22834300.0</td>\n",
       "      <td>0.0</td>\n",
       "      <td>1.0</td>\n",
       "      <td>50.661387</td>\n",
       "      <td>54.708881</td>\n",
       "      <td>50.405597</td>\n",
       "      <td>54.322689</td>\n",
       "      <td>22834300.0</td>\n",
       "    </tr>\n",
       "    <tr>\n",
       "      <th>2004-08-23</th>\n",
       "      <td>110.76</td>\n",
       "      <td>113.48</td>\n",
       "      <td>109.05</td>\n",
       "      <td>109.400</td>\n",
       "      <td>18256100.0</td>\n",
       "      <td>0.0</td>\n",
       "      <td>1.0</td>\n",
       "      <td>55.551482</td>\n",
       "      <td>56.915693</td>\n",
       "      <td>54.693835</td>\n",
       "      <td>54.869377</td>\n",
       "      <td>18256100.0</td>\n",
       "    </tr>\n",
       "    <tr>\n",
       "      <th>2004-08-24</th>\n",
       "      <td>111.24</td>\n",
       "      <td>111.60</td>\n",
       "      <td>103.57</td>\n",
       "      <td>104.870</td>\n",
       "      <td>15247300.0</td>\n",
       "      <td>0.0</td>\n",
       "      <td>1.0</td>\n",
       "      <td>55.792225</td>\n",
       "      <td>55.972783</td>\n",
       "      <td>51.945350</td>\n",
       "      <td>52.597363</td>\n",
       "      <td>15247300.0</td>\n",
       "    </tr>\n",
       "    <tr>\n",
       "      <th>2004-08-25</th>\n",
       "      <td>104.76</td>\n",
       "      <td>108.00</td>\n",
       "      <td>103.88</td>\n",
       "      <td>106.000</td>\n",
       "      <td>9188600.0</td>\n",
       "      <td>0.0</td>\n",
       "      <td>1.0</td>\n",
       "      <td>52.542193</td>\n",
       "      <td>54.167209</td>\n",
       "      <td>52.100830</td>\n",
       "      <td>53.164113</td>\n",
       "      <td>9188600.0</td>\n",
       "    </tr>\n",
       "  </tbody>\n",
       "</table>\n",
       "</div>"
      ],
      "text/plain": [
       "              Open    High     Low    Close      Volume  Ex-Dividend   \n",
       "Date                                                                   \n",
       "2004-08-19  100.01  104.06   95.96  100.335  44659000.0          0.0  \\\n",
       "2004-08-20  101.01  109.08  100.50  108.310  22834300.0          0.0   \n",
       "2004-08-23  110.76  113.48  109.05  109.400  18256100.0          0.0   \n",
       "2004-08-24  111.24  111.60  103.57  104.870  15247300.0          0.0   \n",
       "2004-08-25  104.76  108.00  103.88  106.000   9188600.0          0.0   \n",
       "\n",
       "            Split Ratio  Adj. Open  Adj. High   Adj. Low  Adj. Close   \n",
       "Date                                                                   \n",
       "2004-08-19          1.0  50.159839  52.191109  48.128568   50.322842  \\\n",
       "2004-08-20          1.0  50.661387  54.708881  50.405597   54.322689   \n",
       "2004-08-23          1.0  55.551482  56.915693  54.693835   54.869377   \n",
       "2004-08-24          1.0  55.792225  55.972783  51.945350   52.597363   \n",
       "2004-08-25          1.0  52.542193  54.167209  52.100830   53.164113   \n",
       "\n",
       "            Adj. Volume  \n",
       "Date                     \n",
       "2004-08-19   44659000.0  \n",
       "2004-08-20   22834300.0  \n",
       "2004-08-23   18256100.0  \n",
       "2004-08-24   15247300.0  \n",
       "2004-08-25    9188600.0  "
      ]
     },
     "execution_count": 3,
     "metadata": {},
     "output_type": "execute_result"
    }
   ],
   "source": [
    "df = quandl.get('WIKI/GOOGL')\n",
    "df.head()"
   ]
  },
  {
   "cell_type": "code",
   "execution_count": 4,
   "id": "8da9fe6a",
   "metadata": {},
   "outputs": [
    {
     "data": {
      "text/plain": [
       "Index(['Open', 'High', 'Low', 'Close', 'Volume', 'Ex-Dividend', 'Split Ratio',\n",
       "       'Adj. Open', 'Adj. High', 'Adj. Low', 'Adj. Close', 'Adj. Volume'],\n",
       "      dtype='object')"
      ]
     },
     "execution_count": 4,
     "metadata": {},
     "output_type": "execute_result"
    }
   ],
   "source": [
    "df.columns"
   ]
  },
  {
   "cell_type": "code",
   "execution_count": 5,
   "id": "30953530",
   "metadata": {},
   "outputs": [],
   "source": [
    "df = df[['Adj. Open' , 'Adj. High', 'Adj. Low', 'Adj. Close', 'Adj. Volume']]"
   ]
  },
  {
   "cell_type": "code",
   "execution_count": 6,
   "id": "c5eac2ac",
   "metadata": {},
   "outputs": [],
   "source": [
    "df ['HL_PCT'] = (df['Adj. High']-df['Adj. Close'])/df['Adj. Close']*100.0 #high -lower percentage \n",
    "df ['PCT_change'] = (df['Adj. Close']-df['Adj. Open'])/df['Adj. Open']*100.0 #percentage change "
   ]
  },
  {
   "cell_type": "code",
   "execution_count": 7,
   "id": "ccfecdee",
   "metadata": {},
   "outputs": [
    {
     "data": {
      "text/html": [
       "<div>\n",
       "<style scoped>\n",
       "    .dataframe tbody tr th:only-of-type {\n",
       "        vertical-align: middle;\n",
       "    }\n",
       "\n",
       "    .dataframe tbody tr th {\n",
       "        vertical-align: top;\n",
       "    }\n",
       "\n",
       "    .dataframe thead th {\n",
       "        text-align: right;\n",
       "    }\n",
       "</style>\n",
       "<table border=\"1\" class=\"dataframe\">\n",
       "  <thead>\n",
       "    <tr style=\"text-align: right;\">\n",
       "      <th></th>\n",
       "      <th>Adj. Close</th>\n",
       "      <th>HL_PCT</th>\n",
       "      <th>PCT_change</th>\n",
       "      <th>Adj. Volume</th>\n",
       "    </tr>\n",
       "    <tr>\n",
       "      <th>Date</th>\n",
       "      <th></th>\n",
       "      <th></th>\n",
       "      <th></th>\n",
       "      <th></th>\n",
       "    </tr>\n",
       "  </thead>\n",
       "  <tbody>\n",
       "    <tr>\n",
       "      <th>2004-08-19</th>\n",
       "      <td>50.322842</td>\n",
       "      <td>3.712563</td>\n",
       "      <td>0.324968</td>\n",
       "      <td>44659000.0</td>\n",
       "    </tr>\n",
       "    <tr>\n",
       "      <th>2004-08-20</th>\n",
       "      <td>54.322689</td>\n",
       "      <td>0.710922</td>\n",
       "      <td>7.227007</td>\n",
       "      <td>22834300.0</td>\n",
       "    </tr>\n",
       "    <tr>\n",
       "      <th>2004-08-23</th>\n",
       "      <td>54.869377</td>\n",
       "      <td>3.729433</td>\n",
       "      <td>-1.227880</td>\n",
       "      <td>18256100.0</td>\n",
       "    </tr>\n",
       "    <tr>\n",
       "      <th>2004-08-24</th>\n",
       "      <td>52.597363</td>\n",
       "      <td>6.417469</td>\n",
       "      <td>-5.726357</td>\n",
       "      <td>15247300.0</td>\n",
       "    </tr>\n",
       "    <tr>\n",
       "      <th>2004-08-25</th>\n",
       "      <td>53.164113</td>\n",
       "      <td>1.886792</td>\n",
       "      <td>1.183658</td>\n",
       "      <td>9188600.0</td>\n",
       "    </tr>\n",
       "  </tbody>\n",
       "</table>\n",
       "</div>"
      ],
      "text/plain": [
       "            Adj. Close    HL_PCT  PCT_change  Adj. Volume\n",
       "Date                                                     \n",
       "2004-08-19   50.322842  3.712563    0.324968   44659000.0\n",
       "2004-08-20   54.322689  0.710922    7.227007   22834300.0\n",
       "2004-08-23   54.869377  3.729433   -1.227880   18256100.0\n",
       "2004-08-24   52.597363  6.417469   -5.726357   15247300.0\n",
       "2004-08-25   53.164113  1.886792    1.183658    9188600.0"
      ]
     },
     "execution_count": 7,
     "metadata": {},
     "output_type": "execute_result"
    }
   ],
   "source": [
    "df = df[[ 'Adj. Close','HL_PCT','PCT_change','Adj. Volume']]\n",
    "df.head()"
   ]
  },
  {
   "cell_type": "code",
   "execution_count": 92,
   "id": "03db97ad",
   "metadata": {},
   "outputs": [
    {
     "data": {
      "text/plain": [
       "3050"
      ]
     },
     "execution_count": 92,
     "metadata": {},
     "output_type": "execute_result"
    }
   ],
   "source": [
    "len(df)"
   ]
  },
  {
   "cell_type": "markdown",
   "id": "fc81341c",
   "metadata": {},
   "source": [
    "#### Regression Features and Labels"
   ]
  },
  {
   "cell_type": "code",
   "execution_count": 8,
   "id": "c086cd74",
   "metadata": {},
   "outputs": [],
   "source": [
    "forecast_col = 'Adj. Close'"
   ]
  },
  {
   "cell_type": "code",
   "execution_count": 9,
   "id": "81b63688",
   "metadata": {},
   "outputs": [],
   "source": [
    "df.fillna(-99999,inplace=True)"
   ]
  },
  {
   "cell_type": "code",
   "execution_count": 12,
   "id": "35d5e873",
   "metadata": {},
   "outputs": [],
   "source": [
    "import math"
   ]
  },
  {
   "cell_type": "code",
   "execution_count": 21,
   "id": "f4aadce0",
   "metadata": {},
   "outputs": [],
   "source": [
    "forecast_out = int(math.ceil(0.01*len(df)))"
   ]
  },
  {
   "cell_type": "code",
   "execution_count": 63,
   "id": "d81e60b5",
   "metadata": {},
   "outputs": [
    {
     "data": {
      "text/plain": [
       "31"
      ]
     },
     "execution_count": 63,
     "metadata": {},
     "output_type": "execute_result"
    }
   ],
   "source": [
    "forecast_out"
   ]
  },
  {
   "cell_type": "code",
   "execution_count": 93,
   "id": "a914b922",
   "metadata": {},
   "outputs": [],
   "source": [
    "df['label'] =df[forecast_col].shift(-forecast_out)"
   ]
  },
  {
   "cell_type": "code",
   "execution_count": 81,
   "id": "6df8f212",
   "metadata": {},
   "outputs": [
    {
     "name": "stdout",
     "output_type": "stream",
     "text": [
      "3050\n"
     ]
    }
   ],
   "source": [
    "df.dropna(inplace=True)\n",
    "df.head()\n",
    "print(len(df))"
   ]
  },
  {
   "cell_type": "markdown",
   "id": "31ff83e5",
   "metadata": {},
   "source": [
    "#### Regression Training and Testing"
   ]
  },
  {
   "cell_type": "code",
   "execution_count": 25,
   "id": "63913816",
   "metadata": {},
   "outputs": [],
   "source": [
    "import math\n",
    "import numpy as np # Computing library\n",
    "from sklearn import preprocessing,svm #shuffle data, biased the data # negative 1 to 1 postive\n",
    "from sklearn.linear_model import LinearRegression\n",
    "from sklearn.model_selection import cross_val_score\n",
    "from sklearn.model_selection import cross_validate"
   ]
  },
  {
   "cell_type": "markdown",
   "id": "755cb39c",
   "metadata": {},
   "source": [
    "\n",
    "- #### X - CAPTIAL (X) is for features store \n",
    "- #### y -  lower case (y) is for label"
   ]
  },
  {
   "cell_type": "code",
   "execution_count": 85,
   "id": "f55a09ab",
   "metadata": {},
   "outputs": [
    {
     "name": "stdout",
     "output_type": "stream",
     "text": [
      "3050 3050\n"
     ]
    }
   ],
   "source": [
    "X = np.array(df.drop(['label'],axis=1))\n",
    "y = np.array(df['label'])\n",
    "X = preprocessing.scale(X) #Help Train and test, Normalizating\n",
    "# X = X[:-forecast_out+1] # \n",
    "# df.dropna(inplace=True)\n",
    "y = np.array(df['label'])\n",
    "print(len(X),len(y))"
   ]
  },
  {
   "cell_type": "code",
   "execution_count": 86,
   "id": "bba195f4",
   "metadata": {},
   "outputs": [],
   "source": [
    "from sklearn.model_selection import train_test_split "
   ]
  },
  {
   "cell_type": "code",
   "execution_count": 87,
   "id": "bdea9f08",
   "metadata": {},
   "outputs": [],
   "source": [
    "X_train, X_test, y_train,y_test = train_test_split(X,y,test_size=0.2)"
   ]
  },
  {
   "cell_type": "markdown",
   "id": "02ed9011",
   "metadata": {},
   "source": [
    "### Linear Regression Algorithm\n",
    "- #####  Best fit line --> equal of line y =mx+c"
   ]
  },
  {
   "cell_type": "code",
   "execution_count": 88,
   "id": "f2cb45f6",
   "metadata": {},
   "outputs": [
    {
     "data": {
      "text/plain": [
       "0.9673845566479335"
      ]
     },
     "execution_count": 88,
     "metadata": {},
     "output_type": "execute_result"
    }
   ],
   "source": [
    "clf = LinearRegression() # n_jobs= -1 Can possible to run Multiple JOB\n",
    "clf.fit(X_train,y_train)\n",
    "accuracy = clf.score(X_test,y_test)\n",
    "accuracy"
   ]
  },
  {
   "cell_type": "markdown",
   "id": "1c5834c1",
   "metadata": {},
   "source": []
  },
  {
   "cell_type": "markdown",
   "id": "eba54200",
   "metadata": {},
   "source": [
    "#### Support Vector Machines (SVM) \n",
    "    -Support vector regression (SVR)\n",
    "    -SVR with Kernal (Polynominal kernel='poly') as default\n",
    "    -Effective in High Dimension Spaces (More Dimesion less samples)\n",
    "    -Uses a subset of training points in the decision function (called support vectors),\n",
    "      so it is also memory efficient.\n",
    "     - May Cause the Over Fitting and regularization term is crucial"
   ]
  },
  {
   "cell_type": "code",
   "execution_count": 73,
   "id": "32ffd9d4",
   "metadata": {},
   "outputs": [
    {
     "data": {
      "text/plain": [
       "0.8004385664494962"
      ]
     },
     "execution_count": 73,
     "metadata": {},
     "output_type": "execute_result"
    }
   ],
   "source": [
    "clf_2 = svm.SVR() #kernel='poly'\n",
    "clf_2.fit(X_train,y_train)\n",
    "accuracy_2 = clf_2.score(X_test,y_test)\n",
    "accuracy_2"
   ]
  },
  {
   "cell_type": "markdown",
   "id": "d40def42",
   "metadata": {},
   "source": [
    "- ##### Regression forecasting and predicting "
   ]
  },
  {
   "cell_type": "code",
   "execution_count": 94,
   "id": "83bab6ca",
   "metadata": {},
   "outputs": [
    {
     "name": "stdout",
     "output_type": "stream",
     "text": [
      "[[-1.59236769  2.24176448  0.22483961  4.27880583]\n",
      " [-1.57065565 -0.33990418  4.66821171  1.69141369]\n",
      " [-1.56768811  2.25627444 -0.77484744  1.14865256]\n",
      " ...\n",
      " [ 2.52155323 -0.34699967 -0.16467868 -0.86365203]\n",
      " [ 2.51531079 -0.93643844  0.17236122 -0.90929402]\n",
      " [ 2.50939403 -0.37509366 -0.08405852 -0.90540653]]\n",
      "3019 3019\n"
     ]
    }
   ],
   "source": [
    "## Note : Removed the DROP NA code from above cell to get the equal no of rows\n",
    "\n",
    "X = np.array(df.drop(['label'],axis=1))\n",
    "X = preprocessing.scale(X) #Help Train and test, Normalizating\n",
    "X = X[:-forecast_out]\n",
    "X_lately = X[-forecast_out:]\n",
    "\n",
    "df.dropna(inplace=True)\n",
    "y = np.array(df['label'])\n",
    "y = np.array(df['label'])\n",
    "print(len(X),len(y))"
   ]
  },
  {
   "cell_type": "code",
   "execution_count": 95,
   "id": "bae6d4c6",
   "metadata": {},
   "outputs": [],
   "source": [
    "X_train, X_test, y_train,y_test = train_test_split(X,y,test_size=0.2)"
   ]
  },
  {
   "cell_type": "code",
   "execution_count": 96,
   "id": "b5d0b032",
   "metadata": {},
   "outputs": [
    {
     "data": {
      "text/plain": [
       "0.9655635869137437"
      ]
     },
     "execution_count": 96,
     "metadata": {},
     "output_type": "execute_result"
    }
   ],
   "source": [
    "clf_new = LinearRegression() # n_jobs= -1 Can possible to run Multiple JOB\n",
    "clf_new.fit(X_train,y_train)\n",
    "accuracy = clf_new.score(X_test,y_test)\n",
    "accuracy"
   ]
  },
  {
   "cell_type": "code",
   "execution_count": 102,
   "id": "bfa2260b",
   "metadata": {},
   "outputs": [],
   "source": [
    "forecast_set = clf_new.predict(X_lately)"
   ]
  },
  {
   "cell_type": "code",
   "execution_count": 103,
   "id": "51b8dc5c",
   "metadata": {},
   "outputs": [
    {
     "name": "stdout",
     "output_type": "stream",
     "text": [
      "[716.09973232 711.40342113 713.88586314 714.3766669  723.76820949\n",
      " 732.64219732 738.63646912 736.02445728 742.4550537  741.87961006\n",
      " 757.00587773 758.75248623 762.54365403 760.70427047 765.64767751\n",
      " 763.71046828 763.90050636 767.39162755 770.91371525 793.82277943\n",
      " 802.88314549 804.95264558 804.3914124  802.86944253 811.64441283\n",
      " 810.76748809 811.60901613 813.84043439 813.16806087 812.83245596\n",
      " 811.04980098] 0.9655635869137437 31\n"
     ]
    }
   ],
   "source": [
    "print(forecast_set,accuracy,forecast_out)"
   ]
  },
  {
   "cell_type": "code",
   "execution_count": 100,
   "id": "8acc3e10",
   "metadata": {},
   "outputs": [],
   "source": [
    "import matplotlib.pyplot as plt\n",
    "from matplotlib import style\n",
    "style.use('ggplot')\n",
    "import datetime"
   ]
  },
  {
   "cell_type": "code",
   "execution_count": 104,
   "id": "b5671c7e",
   "metadata": {},
   "outputs": [],
   "source": [
    "df['Forecast'] =np.nan"
   ]
  },
  {
   "cell_type": "code",
   "execution_count": 106,
   "id": "bfb532fc",
   "metadata": {},
   "outputs": [],
   "source": [
    "last_date = df.iloc[-1].name\n",
    "last_unix = last_date.timestamp()\n",
    "one_day = 86400\n",
    "next_unix = last_unix+one_day\n",
    "# This Find the last time stamp of the data and create a next day time stamp"
   ]
  },
  {
   "cell_type": "code",
   "execution_count": 107,
   "id": "247abe7c",
   "metadata": {},
   "outputs": [
    {
     "data": {
      "text/plain": [
       "Timestamp('2016-08-15 00:00:00')"
      ]
     },
     "execution_count": 107,
     "metadata": {},
     "output_type": "execute_result"
    }
   ],
   "source": [
    "last_date"
   ]
  },
  {
   "cell_type": "code",
   "execution_count": 108,
   "id": "e719cb85",
   "metadata": {},
   "outputs": [],
   "source": [
    "for i in forecast_set :\n",
    "    next_date = datetime.datetime.fromtimestamp(next_unix)\n",
    "    next_unix +=one_day # incremental date \n",
    "    df.loc[next_date] = [np.nan for _ in range(len(df.columns)-1)] +[i]\n",
    "    # Referencing the index which is date stamp (Date)"
   ]
  },
  {
   "cell_type": "code",
   "execution_count": 112,
   "id": "2b91aa0c",
   "metadata": {},
   "outputs": [
    {
     "data": {
      "image/png": "[encoded data removed]",
      "text/plain": [
       "<Figure size 640x480 with 1 Axes>"
      ]
     },
     "metadata": {},
     "output_type": "display_data"
    }
   ],
   "source": [
    "df['Adj. Close'].plot()\n",
    "df['Forecast'].plot()\n",
    "plt.legend(loc=4)\n",
    "plt.xlabel('Date')\n",
    "plt.ylabel('Price')\n",
    "plt.show()"
   ]
  },
  {
   "cell_type": "code",
   "execution_count": 118,
   "id": "1c434562",
   "metadata": {},
   "outputs": [],
   "source": [
    "# df['Forecast']"
   ]
  },
  {
   "cell_type": "code",
   "execution_count": 117,
   "id": "ec64785e",
   "metadata": {},
   "outputs": [],
   "source": [
    "# X_lately"
   ]
  },
  {
   "cell_type": "markdown",
   "id": "06c08a1d",
   "metadata": {},
   "source": [
    "- ### Pickling and Scaling"
   ]
  },
  {
   "cell_type": "code",
   "execution_count": 115,
   "id": "e227cfa0",
   "metadata": {},
   "outputs": [],
   "source": [
    "import pickle"
   ]
  },
  {
   "cell_type": "code",
   "execution_count": 119,
   "id": "58bc48d3",
   "metadata": {},
   "outputs": [],
   "source": [
    "# Creating Pickle file(Model)\n",
    "with open('linear_regression.pickle','wb') as f: \n",
    "    pickle.dump(clf_new, f)"
   ]
  },
  {
   "cell_type": "code",
   "execution_count": 120,
   "id": "8e7d27a6",
   "metadata": {},
   "outputs": [],
   "source": [
    "# Loading the model file\n",
    "pickle_in = open('linear_regression.pickle','rb')\n",
    "clf_new_  = pickle.load(pickle_in)\n",
    "\n",
    "# Model assigned variable and predict\n",
    "forecast_set = clf_new_.predict(X_lately)\n",
    "print(forecast_set,accuracy,forecast_out)"
   ]
  },
  {
   "cell_type": "markdown",
   "id": "32fda3a5",
   "metadata": {},
   "source": [
    "### Regression How it Works"
   ]
  },
  {
   "cell_type": "markdown",
   "id": "342eb4bf",
   "metadata": {},
   "source": [
    "$\\hat{Y} = \\hat{\\beta}_{0} + \\sum \\limits _{j=1} ^{p} X_{j}\\hat{\\beta}_{j} $ "
   ]
  },
  {
   "cell_type": "markdown",
   "id": "ce1280f3",
   "metadata": {},
   "source": [
    "# ${m} = (\\hat{x}.\\hat{y}-\\hat{xy}) / \\hat{x}^2_\\sub\\hat{x^2}$"
   ]
  },
  {
   "cell_type": "code",
   "execution_count": 2,
   "id": "1e7f1e35",
   "metadata": {},
   "outputs": [],
   "source": [
    "from statistics import mean\n",
    "import numpy as np\n",
    "import matplotlib.pyplot as plt"
   ]
  },
  {
   "cell_type": "code",
   "execution_count": 10,
   "id": "517d54c1",
   "metadata": {},
   "outputs": [],
   "source": [
    "xs = np.array([1,2,3,4,5,6], dtype =np.int32)\n",
    "ys = np.array([1,2,3,4,5,6], dtype =np.int32)"
   ]
  },
  {
   "cell_type": "code",
   "execution_count": 11,
   "id": "1c126102",
   "metadata": {},
   "outputs": [],
   "source": [
    "def best_fit_line(xs,ys):\n",
    "    m =((mean(xs).mean(ys) - mean(xs*ys))/ (mean(xs)**2 - mean(xs**2)))\n",
    "    return m"
   ]
  },
  {
   "cell_type": "code",
   "execution_count": 13,
   "id": "83101b39",
   "metadata": {},
   "outputs": [],
   "source": [
    "# best_fit_line(xs,ys)"
   ]
  },
  {
   "cell_type": "code",
   "execution_count": null,
   "id": "cde7165f",
   "metadata": {},
   "outputs": [],
   "source": []
  }
 ],
 "metadata": {
  "kernelspec": {
   "display_name": "Python 3 (ipykernel)",
   "language": "python",
   "name": "python3"
  },
  "language_info": {
   "codemirror_mode": {
    "name": "ipython",
    "version": 3
   },
   "file_extension": ".py",
   "mimetype": "text/x-python",
   "name": "python",
   "nbconvert_exporter": "python",
   "pygments_lexer": "ipython3",
   "version": "3.9.9"
  }
 },
 "nbformat": 4,
 "nbformat_minor": 5
}
