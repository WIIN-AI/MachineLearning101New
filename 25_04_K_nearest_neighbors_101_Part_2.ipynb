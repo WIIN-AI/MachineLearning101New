{
 "cells": [
  {
   "cell_type": "code",
   "execution_count": 188,
   "id": "2c26462e",
   "metadata": {},
   "outputs": [],
   "source": [
    "import numpy as np # Computing library\n",
    "from sklearn import preprocessing,svm,neighbors #shuffle data, biased the data # negative 1 to 1 postive\n",
    "from sklearn.linear_model import LinearRegression\n",
    "import math\n",
    "from sklearn.model_selection import cross_val_score\n",
    "import pandas as pd"
   ]
  },
  {
   "cell_type": "code",
   "execution_count": 189,
   "id": "795909fa",
   "metadata": {},
   "outputs": [
    {
     "data": {
      "text/html": [
       "<div>\n",
       "<style scoped>\n",
       "    .dataframe tbody tr th:only-of-type {\n",
       "        vertical-align: middle;\n",
       "    }\n",
       "\n",
       "    .dataframe tbody tr th {\n",
       "        vertical-align: top;\n",
       "    }\n",
       "\n",
       "    .dataframe thead th {\n",
       "        text-align: right;\n",
       "    }\n",
       "</style>\n",
       "<table border=\"1\" class=\"dataframe\">\n",
       "  <thead>\n",
       "    <tr style=\"text-align: right;\">\n",
       "      <th></th>\n",
       "      <th>ClumpThickness</th>\n",
       "      <th>UniformityOfCellSize</th>\n",
       "      <th>Uniformity_of_Cell_Shape</th>\n",
       "      <th>Marginal_Adhesion</th>\n",
       "      <th>Single_Epithelial_Cell_Size</th>\n",
       "      <th>Bare_Nuclei</th>\n",
       "      <th>Bland_Chromatin</th>\n",
       "      <th>Normal_Nucleoli</th>\n",
       "      <th>Mitoses</th>\n",
       "      <th>Class</th>\n",
       "    </tr>\n",
       "  </thead>\n",
       "  <tbody>\n",
       "    <tr>\n",
       "      <th>0</th>\n",
       "      <td>5</td>\n",
       "      <td>1</td>\n",
       "      <td>1</td>\n",
       "      <td>1</td>\n",
       "      <td>2</td>\n",
       "      <td>1</td>\n",
       "      <td>3</td>\n",
       "      <td>1</td>\n",
       "      <td>1</td>\n",
       "      <td>2</td>\n",
       "    </tr>\n",
       "    <tr>\n",
       "      <th>1</th>\n",
       "      <td>5</td>\n",
       "      <td>4</td>\n",
       "      <td>4</td>\n",
       "      <td>5</td>\n",
       "      <td>7</td>\n",
       "      <td>10</td>\n",
       "      <td>3</td>\n",
       "      <td>2</td>\n",
       "      <td>1</td>\n",
       "      <td>2</td>\n",
       "    </tr>\n",
       "    <tr>\n",
       "      <th>2</th>\n",
       "      <td>3</td>\n",
       "      <td>1</td>\n",
       "      <td>1</td>\n",
       "      <td>1</td>\n",
       "      <td>2</td>\n",
       "      <td>2</td>\n",
       "      <td>3</td>\n",
       "      <td>1</td>\n",
       "      <td>1</td>\n",
       "      <td>2</td>\n",
       "    </tr>\n",
       "    <tr>\n",
       "      <th>3</th>\n",
       "      <td>6</td>\n",
       "      <td>8</td>\n",
       "      <td>8</td>\n",
       "      <td>1</td>\n",
       "      <td>3</td>\n",
       "      <td>4</td>\n",
       "      <td>3</td>\n",
       "      <td>7</td>\n",
       "      <td>1</td>\n",
       "      <td>2</td>\n",
       "    </tr>\n",
       "    <tr>\n",
       "      <th>4</th>\n",
       "      <td>4</td>\n",
       "      <td>1</td>\n",
       "      <td>1</td>\n",
       "      <td>3</td>\n",
       "      <td>2</td>\n",
       "      <td>1</td>\n",
       "      <td>3</td>\n",
       "      <td>1</td>\n",
       "      <td>1</td>\n",
       "      <td>2</td>\n",
       "    </tr>\n",
       "  </tbody>\n",
       "</table>\n",
       "</div>"
      ],
      "text/plain": [
       "   ClumpThickness  UniformityOfCellSize  Uniformity_of_Cell_Shape   \n",
       "0               5                     1                         1  \\\n",
       "1               5                     4                         4   \n",
       "2               3                     1                         1   \n",
       "3               6                     8                         8   \n",
       "4               4                     1                         1   \n",
       "\n",
       "   Marginal_Adhesion  Single_Epithelial_Cell_Size Bare_Nuclei   \n",
       "0                  1                            2           1  \\\n",
       "1                  5                            7          10   \n",
       "2                  1                            2           2   \n",
       "3                  1                            3           4   \n",
       "4                  3                            2           1   \n",
       "\n",
       "   Bland_Chromatin  Normal_Nucleoli  Mitoses  Class  \n",
       "0                3                1        1      2  \n",
       "1                3                2        1      2  \n",
       "2                3                1        1      2  \n",
       "3                3                7        1      2  \n",
       "4                3                1        1      2  "
      ]
     },
     "execution_count": 189,
     "metadata": {},
     "output_type": "execute_result"
    }
   ],
   "source": [
    "df = pd.read_csv(\"breast-cancer-wisconsin.data\",index_col=False)\n",
    "df.head(3)\n",
    "df.replace(\"?\", -99999, inplace =True)\n",
    "df =df.drop(['patient_id'],axis=1)\n",
    "df.head()"
   ]
  },
  {
   "cell_type": "code",
   "execution_count": 213,
   "id": "e4fbb2d3",
   "metadata": {},
   "outputs": [
    {
     "name": "stdout",
     "output_type": "stream",
     "text": [
      "0.9857142857142858\n",
      "[2]\n",
      "[2 2]\n"
     ]
    }
   ],
   "source": [
    "from sklearn.model_selection import train_test_split\n",
    "\n",
    "X = np.array(df.drop('Class', axis=1)) # Except Predict Label \n",
    "y = np.array(df['Class']) # Only expected output label(Predict value column)\n",
    "\n",
    "X_train, X_test, y_train,y_test = train_test_split(X,y,test_size=0.2)\n",
    "\n",
    "clf = neighbors.KNeighborsClassifier(n_jobs = 1) # n_jobs = - 1 or 1 or 5..etc. \n",
    "clf.fit(X_train,y_train)\n",
    "\n",
    "accuracy = clf.score(X_test,y_test)\n",
    "print(accuracy) # 96.42\n",
    "\n",
    "# Option 1 for example prediction values \n",
    "example_measures = np.array([4,2,1,1,1,2,3,2,1])  # Prediction values goes here \n",
    "example_measures  = example_measures.reshape(1,-1) # here 1 (one) is refer to length of the given prediction list values\n",
    "\n",
    "prediction = clf.predict(example_measures)\n",
    "print(prediction)\n",
    "\n",
    "# Option 2 for example prediction values \n",
    "example_measures = np.array(\n",
    "                                [\n",
    "                                    [4,2,1,1,1,2,3,2,1],\n",
    "                                    [4,2,1,2,1,2,3,2,1]\n",
    "                                ]\n",
    "                            )  # Prediction values goes here \n",
    "example_measures  = example_measures.reshape(len(example_measures),-1)\n",
    "\n",
    "prediction = clf.predict(example_measures)\n",
    "print(prediction)"
   ]
  },
  {
   "attachments": {},
   "cell_type": "markdown",
   "id": "713b3dbc",
   "metadata": {},
   "source": [
    "## Euclidean Distance\n",
    "![Euclidean distance](img.png)"
   ]
  },
  {
   "cell_type": "code",
   "execution_count": 16,
   "id": "b9fdff30",
   "metadata": {},
   "outputs": [
    {
     "name": "stdout",
     "output_type": "stream",
     "text": [
      "2.23606797749979\n",
      "2.24\n"
     ]
    }
   ],
   "source": [
    "import math\n",
    "plot1 = [1,3]\n",
    "plot2 = [2,5]\n",
    "euclidean_distance = math.sqrt( (plot1[0]-plot2[0])**2 + (plot1[1]-plot2[1])**2) # TWO DIMESTION \n",
    "print(euclidean_distance)\n",
    "print(round(euclidean_distance, 2))"
   ]
  },
  {
   "cell_type": "code",
   "execution_count": 20,
   "id": "6f11ec15",
   "metadata": {},
   "outputs": [],
   "source": [
    "# Implimentation\n",
    "\n",
    "import numpy as np\n",
    "import math # This built in Math function \n",
    "\n",
    "import matplotlib.pyplot as plt\n",
    "import warnings\n",
    "from matplotlib import style\n",
    "from collections import Counter\n",
    "style.use ('fivethirtyeight')"
   ]
  },
  {
   "cell_type": "code",
   "execution_count": 21,
   "id": "9d4b7708",
   "metadata": {},
   "outputs": [],
   "source": [
    "dataset = {\n",
    "    \"k\":[\n",
    "        [1,2],\n",
    "        [2,3],\n",
    "        [3,1]\n",
    "    ],\n",
    "    \"r\":[\n",
    "        [6,5],\n",
    "        [7,7],\n",
    "        [8,6]\n",
    "    ]\n",
    "    \n",
    "}\n",
    "new_features = [5,7]"
   ]
  },
  {
   "cell_type": "code",
   "execution_count": 206,
   "id": "aaef73dd",
   "metadata": {},
   "outputs": [
    {
     "data": {
      "image/png": "[encoded data removed]",
      "text/plain": [
       "<Figure size 640x480 with 1 Axes>"
      ]
     },
     "metadata": {},
     "output_type": "display_data"
    }
   ],
   "source": [
    "for i in dataset : \n",
    "    for ii in dataset[i]:\n",
    "        plt.scatter(ii[0],ii[1], s=100,color = i)\n",
    "        \n",
    "#Optimal One liner Code for above snippet \n",
    "# [ [plt.scatter(ii[0],ii[1],s=100, color=i) for ii in dataset[i]] for i in dataset ]\n",
    "plt.scatter(new_features[0],new_features[1], s =100)\n",
    "plt.show()"
   ]
  },
  {
   "cell_type": "code",
   "execution_count": 53,
   "id": "0bb6f6f8",
   "metadata": {},
   "outputs": [],
   "source": [
    "def k_nearest_neighbors(data,predict, k=3): \n",
    "    if len(data)>=k : print(\"K is set to a value less than total voting groups/feature\")\n",
    "    distances = []\n",
    "    for group in data:\n",
    "        for features in data[group]:\n",
    "#             euclidean_distance= math.sqrt( (plot1[0]-plot2[0])**2 + (plot1[1]-plot2[1])**2)\n",
    "#             print(euclidean_distance)\n",
    "#             print(round(euclidean_distance, 2))\n",
    "#             euclidean_distance = np.sqrt(np.sum((np.array(features)-np.array(predict))**2))\n",
    "            euclidean_distance = np.linalg.norm(np.array(features)-np.array(predict))\n",
    "            distances.append([euclidean_distance,group])\n",
    "#     print(distances)\n",
    "#     print(sorted(distances))\n",
    "    votes = [ i[1] for i in sorted(distances)[:k] ] # Here picking top K values(here K is 3 as per the given )\n",
    "    print(votes)\n",
    "    print(Counter(votes).most_common(1))\n",
    "    print(Counter(votes))\n",
    "    votes_result = Counter(votes).most_common(1)[0][0]\n",
    "    return votes_result"
   ]
  },
  {
   "cell_type": "code",
   "execution_count": 54,
   "id": "16ad18f4",
   "metadata": {},
   "outputs": [
    {
     "name": "stdout",
     "output_type": "stream",
     "text": [
      "['r', 'r', 'r']\n",
      "[('r', 3)]\n",
      "[('r', 3)]\n",
      "Counter({'r': 3})\n"
     ]
    }
   ],
   "source": [
    "dataset = {\n",
    "    \"k\":[\n",
    "        [1,2],\n",
    "        [2,3],\n",
    "        [3,1]\n",
    "    ],\n",
    "    \"r\":[\n",
    "        [6,5],\n",
    "        [7,7],\n",
    "        [8,6]\n",
    "    ]\n",
    "    \n",
    "}\n",
    "new_features = [5,7]\n",
    "result = k_nearest_neighbors(dataset,new_features,k=3)"
   ]
  },
  {
   "cell_type": "code",
   "execution_count": 38,
   "id": "46d79a8b",
   "metadata": {},
   "outputs": [
    {
     "data": {
      "text/plain": [
       "'r'"
      ]
     },
     "execution_count": 38,
     "metadata": {},
     "output_type": "execute_result"
    }
   ],
   "source": [
    "result"
   ]
  },
  {
   "cell_type": "code",
   "execution_count": 57,
   "id": "55fc8df8",
   "metadata": {},
   "outputs": [
    {
     "data": {
      "image/png": "[encoded data removed]",
      "text/plain": [
       "<Figure size 640x480 with 1 Axes>"
      ]
     },
     "metadata": {},
     "output_type": "display_data"
    }
   ],
   "source": [
    "for i in dataset : \n",
    "    for ii in dataset[i]:\n",
    "        plt.scatter(ii[0],ii[1], s=100,color = i) # here is \"i\" marked as GROUP type\n",
    "        \n",
    "plt.scatter(new_features[0],new_features[1], s =100, color =result) # marking to most matched GROUP\n",
    "plt.show()"
   ]
  },
  {
   "cell_type": "markdown",
   "id": "e27eeb10",
   "metadata": {},
   "source": [
    "## Applying our K Nearest Neighbors Algorithm"
   ]
  },
  {
   "cell_type": "code",
   "execution_count": 58,
   "id": "fc9226cb",
   "metadata": {},
   "outputs": [],
   "source": [
    "import numpy as np\n",
    "import pandas as pd\n",
    "from math import sqrt\n",
    "import random\n",
    "import warnings"
   ]
  },
  {
   "cell_type": "code",
   "execution_count": 184,
   "id": "fcf94a7f",
   "metadata": {},
   "outputs": [],
   "source": [
    "def k_nearest_neighbors_algo(data,predict, k=3):\n",
    "    if len(data)>=k :\n",
    "        warnings.warn(\"K is set to a value less than total voting groups/feature\")\n",
    "    distances = []\n",
    "    for group in data:\n",
    "        for features in data[group]:\n",
    "            euclidean_distance = np.linalg.norm(np.array(features)-np.array(predict))\n",
    "            distances.append([euclidean_distance,group])\n",
    "    votes = [ i[1] for i in sorted(distances)[:k] ]\n",
    "#     print(Counter(votes).most_common(1))\n",
    "    votes_result = Counter(votes).most_common(1)[0][0]\n",
    "    confidence = Counter(votes).most_common(1)[0][1]/k\n",
    "#     print(votes_result, confidence)\n",
    "    return votes_result, confidence # type of group/predict value - which returns is SINGLE VALUE which is compared value(expected value)"
   ]
  },
  {
   "cell_type": "code",
   "execution_count": 160,
   "id": "8df173d9",
   "metadata": {},
   "outputs": [],
   "source": [
    "df = pd.read_csv(\"breast-cancer-wisconsin.data\",index_col=False)\n",
    "df.head(3)\n",
    "df.replace(\"?\", -99999, inplace =True)"
   ]
  },
  {
   "cell_type": "code",
   "execution_count": 161,
   "id": "20a48ec2",
   "metadata": {
    "scrolled": true
   },
   "outputs": [],
   "source": [
    "# len(df)\n",
    "# df.patient_id"
   ]
  },
  {
   "cell_type": "code",
   "execution_count": 162,
   "id": "b913231e",
   "metadata": {},
   "outputs": [],
   "source": [
    "# df.columns = [\n",
    "#     'ID','ClumpThickness','UniformityOfCellSize','Uniformity_of_Cell_Shape_',\n",
    "#     \"Marginal_Adhesion\",\"Single_Epithelial_Cell_Size\",\"Bare_Nuclei\",\"Bland_Chromatin\",\"Normal_Nucleoli\",\"Mitoses\"\n",
    "# ]"
   ]
  },
  {
   "cell_type": "code",
   "execution_count": 163,
   "id": "0f9bc21e",
   "metadata": {},
   "outputs": [
    {
     "data": {
      "text/html": [
       "<div>\n",
       "<style scoped>\n",
       "    .dataframe tbody tr th:only-of-type {\n",
       "        vertical-align: middle;\n",
       "    }\n",
       "\n",
       "    .dataframe tbody tr th {\n",
       "        vertical-align: top;\n",
       "    }\n",
       "\n",
       "    .dataframe thead th {\n",
       "        text-align: right;\n",
       "    }\n",
       "</style>\n",
       "<table border=\"1\" class=\"dataframe\">\n",
       "  <thead>\n",
       "    <tr style=\"text-align: right;\">\n",
       "      <th></th>\n",
       "      <th>ClumpThickness</th>\n",
       "      <th>UniformityOfCellSize</th>\n",
       "      <th>Uniformity_of_Cell_Shape</th>\n",
       "      <th>Marginal_Adhesion</th>\n",
       "      <th>Single_Epithelial_Cell_Size</th>\n",
       "      <th>Bare_Nuclei</th>\n",
       "      <th>Bland_Chromatin</th>\n",
       "      <th>Normal_Nucleoli</th>\n",
       "      <th>Mitoses</th>\n",
       "      <th>Class</th>\n",
       "    </tr>\n",
       "  </thead>\n",
       "  <tbody>\n",
       "    <tr>\n",
       "      <th>0</th>\n",
       "      <td>5</td>\n",
       "      <td>1</td>\n",
       "      <td>1</td>\n",
       "      <td>1</td>\n",
       "      <td>2</td>\n",
       "      <td>1</td>\n",
       "      <td>3</td>\n",
       "      <td>1</td>\n",
       "      <td>1</td>\n",
       "      <td>2</td>\n",
       "    </tr>\n",
       "    <tr>\n",
       "      <th>1</th>\n",
       "      <td>5</td>\n",
       "      <td>4</td>\n",
       "      <td>4</td>\n",
       "      <td>5</td>\n",
       "      <td>7</td>\n",
       "      <td>10</td>\n",
       "      <td>3</td>\n",
       "      <td>2</td>\n",
       "      <td>1</td>\n",
       "      <td>2</td>\n",
       "    </tr>\n",
       "    <tr>\n",
       "      <th>2</th>\n",
       "      <td>3</td>\n",
       "      <td>1</td>\n",
       "      <td>1</td>\n",
       "      <td>1</td>\n",
       "      <td>2</td>\n",
       "      <td>2</td>\n",
       "      <td>3</td>\n",
       "      <td>1</td>\n",
       "      <td>1</td>\n",
       "      <td>2</td>\n",
       "    </tr>\n",
       "    <tr>\n",
       "      <th>3</th>\n",
       "      <td>6</td>\n",
       "      <td>8</td>\n",
       "      <td>8</td>\n",
       "      <td>1</td>\n",
       "      <td>3</td>\n",
       "      <td>4</td>\n",
       "      <td>3</td>\n",
       "      <td>7</td>\n",
       "      <td>1</td>\n",
       "      <td>2</td>\n",
       "    </tr>\n",
       "    <tr>\n",
       "      <th>4</th>\n",
       "      <td>4</td>\n",
       "      <td>1</td>\n",
       "      <td>1</td>\n",
       "      <td>3</td>\n",
       "      <td>2</td>\n",
       "      <td>1</td>\n",
       "      <td>3</td>\n",
       "      <td>1</td>\n",
       "      <td>1</td>\n",
       "      <td>2</td>\n",
       "    </tr>\n",
       "  </tbody>\n",
       "</table>\n",
       "</div>"
      ],
      "text/plain": [
       "   ClumpThickness  UniformityOfCellSize  Uniformity_of_Cell_Shape   \n",
       "0               5                     1                         1  \\\n",
       "1               5                     4                         4   \n",
       "2               3                     1                         1   \n",
       "3               6                     8                         8   \n",
       "4               4                     1                         1   \n",
       "\n",
       "   Marginal_Adhesion  Single_Epithelial_Cell_Size Bare_Nuclei   \n",
       "0                  1                            2           1  \\\n",
       "1                  5                            7          10   \n",
       "2                  1                            2           2   \n",
       "3                  1                            3           4   \n",
       "4                  3                            2           1   \n",
       "\n",
       "   Bland_Chromatin  Normal_Nucleoli  Mitoses  Class  \n",
       "0                3                1        1      2  \n",
       "1                3                2        1      2  \n",
       "2                3                1        1      2  \n",
       "3                3                7        1      2  \n",
       "4                3                1        1      2  "
      ]
     },
     "execution_count": 163,
     "metadata": {},
     "output_type": "execute_result"
    }
   ],
   "source": [
    "df =df.drop(['patient_id'],axis=1)\n",
    "df.head()"
   ]
  },
  {
   "cell_type": "code",
   "execution_count": 164,
   "id": "a928866a",
   "metadata": {},
   "outputs": [],
   "source": [
    "full_data = df.astype(float).values.tolist() # To avoid the string values or misCleared Typed Values"
   ]
  },
  {
   "cell_type": "code",
   "execution_count": 125,
   "id": "37165a4e",
   "metadata": {},
   "outputs": [
    {
     "data": {
      "text/plain": [
       "[[5.0, 1.0, 1.0, 1.0, 2.0, 1.0, 3.0, 1.0, 1.0, 2.0],\n",
       " [5.0, 4.0, 4.0, 5.0, 7.0, 10.0, 3.0, 2.0, 1.0, 2.0],\n",
       " [3.0, 1.0, 1.0, 1.0, 2.0, 2.0, 3.0, 1.0, 1.0, 2.0],\n",
       " [6.0, 8.0, 8.0, 1.0, 3.0, 4.0, 3.0, 7.0, 1.0, 2.0],\n",
       " [4.0, 1.0, 1.0, 3.0, 2.0, 1.0, 3.0, 1.0, 1.0, 2.0],\n",
       " [8.0, 10.0, 10.0, 8.0, 7.0, 10.0, 9.0, 7.0, 1.0, 4.0],\n",
       " [1.0, 1.0, 1.0, 1.0, 2.0, 10.0, 3.0, 1.0, 1.0, 2.0],\n",
       " [2.0, 1.0, 2.0, 1.0, 2.0, 1.0, 3.0, 1.0, 1.0, 2.0],\n",
       " [2.0, 1.0, 1.0, 1.0, 2.0, 1.0, 1.0, 1.0, 5.0, 2.0],\n",
       " [4.0, 2.0, 1.0, 1.0, 2.0, 1.0, 2.0, 1.0, 1.0, 2.0]]"
      ]
     },
     "execution_count": 125,
     "metadata": {},
     "output_type": "execute_result"
    }
   ],
   "source": [
    "full_data[:10]"
   ]
  },
  {
   "cell_type": "code",
   "execution_count": 126,
   "id": "b0a18a86",
   "metadata": {},
   "outputs": [],
   "source": [
    "random.shuffle(full_data) ##  shuffle help to shuffle the radomly to balance data"
   ]
  },
  {
   "cell_type": "code",
   "execution_count": 127,
   "id": "1602be03",
   "metadata": {},
   "outputs": [
    {
     "data": {
      "text/plain": [
       "[[3.0, 1.0, 1.0, 1.0, 1.0, 1.0, 2.0, 1.0, 1.0, 2.0],\n",
       " [8.0, 10.0, 10.0, 10.0, 6.0, 10.0, 10.0, 10.0, 10.0, 4.0],\n",
       " [2.0, 1.0, 1.0, 1.0, 1.0, 1.0, 2.0, 1.0, 1.0, 2.0],\n",
       " [3.0, 3.0, 5.0, 2.0, 3.0, 10.0, 7.0, 1.0, 1.0, 4.0],\n",
       " [3.0, 1.0, 1.0, 1.0, 2.0, 4.0, 1.0, 1.0, 1.0, 2.0],\n",
       " [4.0, 2.0, 2.0, 1.0, 2.0, 1.0, 2.0, 1.0, 1.0, 2.0],\n",
       " [8.0, 3.0, 8.0, 3.0, 4.0, 9.0, 8.0, 9.0, 8.0, 4.0],\n",
       " [5.0, 3.0, 3.0, 4.0, 2.0, 4.0, 3.0, 4.0, 1.0, 4.0],\n",
       " [2.0, 1.0, 1.0, 1.0, 2.0, 1.0, 2.0, 1.0, 1.0, 2.0],\n",
       " [10.0, 10.0, 10.0, 3.0, 10.0, 10.0, 9.0, 10.0, 1.0, 4.0]]"
      ]
     },
     "execution_count": 127,
     "metadata": {},
     "output_type": "execute_result"
    }
   ],
   "source": [
    "full_data[:10]"
   ]
  },
  {
   "cell_type": "code",
   "execution_count": 186,
   "id": "aacac030",
   "metadata": {},
   "outputs": [],
   "source": [
    "test_size = 0.4\n",
    "train_set = {2.0:[],4.0:[]}\n",
    "test_set  = {2.0:[],4.0:[]}\n",
    "\n",
    "train_data = full_data[:-int(test_size*len(full_data))] # TRAIN DATA SET CREATION ->  80%\n",
    "test_data = full_data[-int(test_size*len(full_data)):] # TEST DATA SET CREATION ->  20%\n",
    "\n",
    "for i in train_data: \n",
    "    if float(i[-1]) not in train_set.keys():\n",
    "        train_set[i[-1]]=[i[:-1]]\n",
    "    else:\n",
    "        train_set[i[-1]].append(i[:-1])\n",
    "        \n",
    "for i in test_data: \n",
    "    test_set[i[-1]].append(i[:-1])\n",
    "\n",
    "    \n"
   ]
  },
  {
   "cell_type": "code",
   "execution_count": 187,
   "id": "86c60aa4",
   "metadata": {},
   "outputs": [
    {
     "name": "stdout",
     "output_type": "stream",
     "text": [
      "0.8\n",
      "0.6\n",
      "0.8\n",
      "accuracy: 0.989247311827957\n"
     ]
    }
   ],
   "source": [
    "correct = 0 \n",
    "total =0 \n",
    "\n",
    "for group in test_set:\n",
    "    for data in test_set[group]:\n",
    "        vote,confidence = k_nearest_neighbors_algo(train_set,data,k=5) # FOR Complate Set of Train data check the each point of Test set\n",
    "        if group == vote: # if is matching our expected test set output\n",
    "            correct +=1\n",
    "        else:\n",
    "            print(confidence)\n",
    "        total +=1\n",
    "print('accuracy:', correct/total)"
   ]
  },
  {
   "cell_type": "code",
   "execution_count": null,
   "id": "8cdd09fe",
   "metadata": {},
   "outputs": [],
   "source": []
  }
 ],
 "metadata": {
  "kernelspec": {
   "display_name": "Python 3 (ipykernel)",
   "language": "python",
   "name": "python3"
  },
  "language_info": {
   "codemirror_mode": {
    "name": "ipython",
    "version": 3
   },
   "file_extension": ".py",
   "mimetype": "text/x-python",
   "name": "python",
   "nbconvert_exporter": "python",
   "pygments_lexer": "ipython3",
   "version": "3.9.9"
  }
 },
 "nbformat": 4,
 "nbformat_minor": 5
}
