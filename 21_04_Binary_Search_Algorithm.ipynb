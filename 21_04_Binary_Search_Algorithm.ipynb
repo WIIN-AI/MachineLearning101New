{
 "cells": [
  {
   "cell_type": "markdown",
   "id": "2fe73425",
   "metadata": {},
   "source": [
    "### Binary_Search_Algorithm\n",
    "-  If is given array is Sorted Array \n",
    "- Squence of the steps \n",
    "- Ceiling Means > Smallest Element in array greater or equal to target \n"
   ]
  },
  {
   "cell_type": "code",
   "execution_count": null,
   "id": "ef387ecc",
   "metadata": {},
   "outputs": [],
   "source": [
    "def binary_search_fn(arr:list, target:int)->int:\n",
    "    if len(arr) <=0 :  # if no elements present in given list\n",
    "        return -1\n",
    "    start = 0 \n",
    "    end = len(arr)-1\n",
    "    while start <= end :\n",
    "        mid = start + (end -start)//2\n",
    "        if arr [mid] == target: \n",
    "            return mid\n",
    "        if arr[mid] < target :\n",
    "            start = mid+1\n",
    "        else :\n",
    "            end = mid -1\n",
    "    return -1 # If the given target value not present in given list\n",
    "\n",
    "\n",
    "nums1 = [0,5,7,7,8,8,10,11,12]\n",
    "target = 12\n",
    "anw = binary_search_fn(nums1,target)\n",
    "print(anw)"
   ]
  },
  {
   "cell_type": "code",
   "execution_count": 25,
   "id": "a4ab0292",
   "metadata": {},
   "outputs": [],
   "source": [
    "# Order_Agnostic_Binary_Search"
   ]
  },
  {
   "cell_type": "code",
   "execution_count": 7,
   "id": "91a608d1",
   "metadata": {},
   "outputs": [
    {
     "name": "stdout",
     "output_type": "stream",
     "text": [
      "-1\n"
     ]
    }
   ],
   "source": [
    "def Order_Agnostic_Binary_Search(arr:list, target:int)->int:\n",
    "    if len(arr) <=0 :  # if no elements present in given list\n",
    "        return -1\n",
    "    \n",
    "    is_asc = False\n",
    "    if arr[0] < arr[-1] : \n",
    "        is_asc = True        \n",
    "    \n",
    "    start = 0 \n",
    "    end = len(arr)-1\n",
    "    while start <= end :\n",
    "        mid = start + (end -start)//2            \n",
    "        if arr [mid] == target:  \n",
    "            return mid\n",
    "        \n",
    "        if is_asc :\n",
    "            if target > arr[mid]:\n",
    "                start = mid+1\n",
    "            else :\n",
    "                end = mid -1\n",
    "        else:\n",
    "            if target > arr[mid]:\n",
    "                end = mid -1\n",
    "            else :\n",
    "                start = mid+1\n",
    "            \n",
    "    return -1 # If the given target value not present in given list\n",
    "\n",
    "\n",
    "nums1 = [11,10,9,7,6]\n",
    "target = 12\n",
    "anw = Order_Agnostic_Binary_Search(nums1,target)\n",
    "print(anw)"
   ]
  },
  {
   "cell_type": "markdown",
   "id": "61c2cf27",
   "metadata": {},
   "source": [
    "## Ceiling Means > Smallest Element in array greater or equal to target\n",
    "\n",
    "####  Great number of list  > Target value and in that smallest Number"
   ]
  },
  {
   "cell_type": "code",
   "execution_count": 1,
   "id": "f05299ee",
   "metadata": {},
   "outputs": [],
   "source": [
    "arr = [2,3,4,5,9.14,16,17], target = 15"
   ]
  },
  {
   "cell_type": "code",
   "execution_count": 47,
   "id": "c570dfdf",
   "metadata": {},
   "outputs": [
    {
     "name": "stdout",
     "output_type": "stream",
     "text": [
      "16\n"
     ]
    }
   ],
   "source": [
    "def solution_ceiling(arr:list,target:int)->int:\n",
    "    \n",
    "    if len(arr) <= 0 : return -1\n",
    "    if target > arr[-1] : return -1 # But what if the target is greater then the greatest number in the array\n",
    "    \n",
    "    start = 0 \n",
    "    end = len(arr)-1\n",
    "    \n",
    "    while start <=end : \n",
    "        mid = start + (end-start)//2\n",
    "        if arr[mid] == target: \n",
    "            return arr[mid]\n",
    "        \n",
    "        if target > arr[mid] : \n",
    "            start = mid +1\n",
    "        else: \n",
    "            end = mid-1\n",
    "\n",
    "    return arr[start]\n",
    "\n",
    "\n",
    "arr = [2,3,4,5,9,14,16,17]; target = 15\n",
    "print(solution_ceiling(arr,target))"
   ]
  },
  {
   "cell_type": "code",
   "execution_count": 21,
   "id": "e5eec9f2",
   "metadata": {},
   "outputs": [
    {
     "name": "stdout",
     "output_type": "stream",
     "text": [
      "17\n"
     ]
    }
   ],
   "source": [
    "\n",
    "arr = [2,3,4,5,9,14,16,17]; target = 20\n",
    "print(solution_ceiling(arr,target))"
   ]
  },
  {
   "cell_type": "markdown",
   "id": "5a098ee4",
   "metadata": {},
   "source": [
    "### Floor of Number --> Smallest number of list less than Target value and in that greast Number"
   ]
  },
  {
   "cell_type": "code",
   "execution_count": 51,
   "id": "ab089af6",
   "metadata": {},
   "outputs": [
    {
     "name": "stdout",
     "output_type": "stream",
     "text": [
      "-1\n"
     ]
    }
   ],
   "source": [
    "def floor_of_number (arr:list,target:int)->int: ## This return the index only\n",
    "    \n",
    "    if len(arr) <= 0 : return -1\n",
    "#     if target < arr[0] : return -1 \n",
    "    start = 0 \n",
    "    end = len(arr)-1\n",
    "    \n",
    "    while start <=end : \n",
    "        mid = int(start + (end-start)/2)\n",
    "        if arr[mid] == target: \n",
    "            #return arr[mid]\n",
    "            return mid\n",
    "        \n",
    "        if target > arr[mid] : \n",
    "            start = mid +1\n",
    "        else: \n",
    "            end = mid-1\n",
    "            \n",
    "    #return arr[end]\n",
    "    return end\n",
    "\n",
    "\n",
    "arr = [2,3,4,5,9,14,16,17]; target = 1\n",
    "print(floor_of_number(arr,target)) # return the index and time complexity O(logN)"
   ]
  },
  {
   "cell_type": "markdown",
   "id": "35d7f4ec",
   "metadata": {},
   "source": [
    "## 744. Find Smallest Letter Greater Than Target\n",
    "- https://leetcode.com/problems/find-smallest-letter-greater-than-target/\n",
    "- You are given an array of characters letters that is sorted in `non-decreasing order`, and a character target. There are at least two different characters in letters.\n",
    "\n",
    "- Return the smallest character in letters that is lexicographically greater than target. If such a character does not exist, return the first character in letters.\n",
    "- Example 1:\n",
    "\n",
    "    - `Input: letters = [\"c\",\"f\",\"j\"], target = \"a\"`\n",
    "    - `Output: \"c\"`\n",
    "    - `Explanation: The smallest character that is lexicographically greater than 'a' in letters is 'c'.`"
   ]
  },
  {
   "cell_type": "code",
   "execution_count": 14,
   "id": "4c8a1551",
   "metadata": {},
   "outputs": [
    {
     "name": "stdout",
     "output_type": "stream",
     "text": [
      "c\n"
     ]
    }
   ],
   "source": [
    "def solution_744(letters:list, target:str)->str:\n",
    "    if len(letters) <=0:\n",
    "        return -1\n",
    "    \n",
    "    start = 0 \n",
    "    end = len(letters)-1\n",
    "    \n",
    "    while start <=end:\n",
    "        mid = start + (end-start)//2\n",
    "#         if arr[mid] == target :\n",
    "#             return arr[mid]\n",
    "\n",
    "        if target > letters[mid]:\n",
    "            start = mid +1 \n",
    "        else:\n",
    "            end = mid - 1\n",
    "    \n",
    "    \n",
    "    return letters[start]\n",
    "    \n",
    "    \n",
    "    \n",
    "    \n",
    "letters = [\"c\",\"f\",\"j\"]; target = \"b\"   \n",
    "print(solution_744(letters,target))"
   ]
  },
  {
   "cell_type": "code",
   "execution_count": null,
   "id": "ae082899",
   "metadata": {},
   "outputs": [],
   "source": []
  }
 ],
 "metadata": {
  "kernelspec": {
   "display_name": "Python 3 (ipykernel)",
   "language": "python",
   "name": "python3"
  },
  "language_info": {
   "codemirror_mode": {
    "name": "ipython",
    "version": 3
   },
   "file_extension": ".py",
   "mimetype": "text/x-python",
   "name": "python",
   "nbconvert_exporter": "python",
   "pygments_lexer": "ipython3",
   "version": "3.9.9"
  }
 },
 "nbformat": 4,
 "nbformat_minor": 5
}
